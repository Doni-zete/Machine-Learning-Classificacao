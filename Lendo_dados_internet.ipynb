{
  "nbformat": 4,
  "nbformat_minor": 0,
  "metadata": {
    "colab": {
      "provenance": []
    },
    "kernelspec": {
      "name": "python3",
      "display_name": "Python 3"
    },
    "language_info": {
      "name": "python"
    }
  },
  "cells": [
    {
      "cell_type": "markdown",
      "source": [
        "# **Importando biblioteca pandas e lendo link da internet**"
      ],
      "metadata": {
        "id": "_TyTPsvUVmHC"
      }
    },
    {
      "cell_type": "code",
      "execution_count": 15,
      "metadata": {
        "colab": {
          "base_uri": "https://localhost:8080/",
          "height": 363
        },
        "id": "ii7CoEMDVESw",
        "outputId": "db8f316f-5d6b-49e8-add7-f9d6425e5eea"
      },
      "outputs": [
        {
          "output_type": "execute_result",
          "data": {
            "text/plain": [
              "   home  how_it_works  contact  bought\n",
              "0     1             1        0       0\n",
              "1     1             1        0       0\n",
              "2     1             1        0       0\n",
              "3     1             1        0       0\n",
              "4     1             1        0       0\n",
              "5     1             0        1       1\n",
              "6     1             1        0       0\n",
              "7     1             0        1       1\n",
              "8     1             1        0       0\n",
              "9     1             0        1       1"
            ],
            "text/html": [
              "\n",
              "  <div id=\"df-4d1116a5-1161-42f8-b086-cabd55be7254\">\n",
              "    <div class=\"colab-df-container\">\n",
              "      <div>\n",
              "<style scoped>\n",
              "    .dataframe tbody tr th:only-of-type {\n",
              "        vertical-align: middle;\n",
              "    }\n",
              "\n",
              "    .dataframe tbody tr th {\n",
              "        vertical-align: top;\n",
              "    }\n",
              "\n",
              "    .dataframe thead th {\n",
              "        text-align: right;\n",
              "    }\n",
              "</style>\n",
              "<table border=\"1\" class=\"dataframe\">\n",
              "  <thead>\n",
              "    <tr style=\"text-align: right;\">\n",
              "      <th></th>\n",
              "      <th>home</th>\n",
              "      <th>how_it_works</th>\n",
              "      <th>contact</th>\n",
              "      <th>bought</th>\n",
              "    </tr>\n",
              "  </thead>\n",
              "  <tbody>\n",
              "    <tr>\n",
              "      <th>0</th>\n",
              "      <td>1</td>\n",
              "      <td>1</td>\n",
              "      <td>0</td>\n",
              "      <td>0</td>\n",
              "    </tr>\n",
              "    <tr>\n",
              "      <th>1</th>\n",
              "      <td>1</td>\n",
              "      <td>1</td>\n",
              "      <td>0</td>\n",
              "      <td>0</td>\n",
              "    </tr>\n",
              "    <tr>\n",
              "      <th>2</th>\n",
              "      <td>1</td>\n",
              "      <td>1</td>\n",
              "      <td>0</td>\n",
              "      <td>0</td>\n",
              "    </tr>\n",
              "    <tr>\n",
              "      <th>3</th>\n",
              "      <td>1</td>\n",
              "      <td>1</td>\n",
              "      <td>0</td>\n",
              "      <td>0</td>\n",
              "    </tr>\n",
              "    <tr>\n",
              "      <th>4</th>\n",
              "      <td>1</td>\n",
              "      <td>1</td>\n",
              "      <td>0</td>\n",
              "      <td>0</td>\n",
              "    </tr>\n",
              "    <tr>\n",
              "      <th>5</th>\n",
              "      <td>1</td>\n",
              "      <td>0</td>\n",
              "      <td>1</td>\n",
              "      <td>1</td>\n",
              "    </tr>\n",
              "    <tr>\n",
              "      <th>6</th>\n",
              "      <td>1</td>\n",
              "      <td>1</td>\n",
              "      <td>0</td>\n",
              "      <td>0</td>\n",
              "    </tr>\n",
              "    <tr>\n",
              "      <th>7</th>\n",
              "      <td>1</td>\n",
              "      <td>0</td>\n",
              "      <td>1</td>\n",
              "      <td>1</td>\n",
              "    </tr>\n",
              "    <tr>\n",
              "      <th>8</th>\n",
              "      <td>1</td>\n",
              "      <td>1</td>\n",
              "      <td>0</td>\n",
              "      <td>0</td>\n",
              "    </tr>\n",
              "    <tr>\n",
              "      <th>9</th>\n",
              "      <td>1</td>\n",
              "      <td>0</td>\n",
              "      <td>1</td>\n",
              "      <td>1</td>\n",
              "    </tr>\n",
              "  </tbody>\n",
              "</table>\n",
              "</div>\n",
              "      <button class=\"colab-df-convert\" onclick=\"convertToInteractive('df-4d1116a5-1161-42f8-b086-cabd55be7254')\"\n",
              "              title=\"Convert this dataframe to an interactive table.\"\n",
              "              style=\"display:none;\">\n",
              "        \n",
              "  <svg xmlns=\"http://www.w3.org/2000/svg\" height=\"24px\"viewBox=\"0 0 24 24\"\n",
              "       width=\"24px\">\n",
              "    <path d=\"M0 0h24v24H0V0z\" fill=\"none\"/>\n",
              "    <path d=\"M18.56 5.44l.94 2.06.94-2.06 2.06-.94-2.06-.94-.94-2.06-.94 2.06-2.06.94zm-11 1L8.5 8.5l.94-2.06 2.06-.94-2.06-.94L8.5 2.5l-.94 2.06-2.06.94zm10 10l.94 2.06.94-2.06 2.06-.94-2.06-.94-.94-2.06-.94 2.06-2.06.94z\"/><path d=\"M17.41 7.96l-1.37-1.37c-.4-.4-.92-.59-1.43-.59-.52 0-1.04.2-1.43.59L10.3 9.45l-7.72 7.72c-.78.78-.78 2.05 0 2.83L4 21.41c.39.39.9.59 1.41.59.51 0 1.02-.2 1.41-.59l7.78-7.78 2.81-2.81c.8-.78.8-2.07 0-2.86zM5.41 20L4 18.59l7.72-7.72 1.47 1.35L5.41 20z\"/>\n",
              "  </svg>\n",
              "      </button>\n",
              "      \n",
              "  <style>\n",
              "    .colab-df-container {\n",
              "      display:flex;\n",
              "      flex-wrap:wrap;\n",
              "      gap: 12px;\n",
              "    }\n",
              "\n",
              "    .colab-df-convert {\n",
              "      background-color: #E8F0FE;\n",
              "      border: none;\n",
              "      border-radius: 50%;\n",
              "      cursor: pointer;\n",
              "      display: none;\n",
              "      fill: #1967D2;\n",
              "      height: 32px;\n",
              "      padding: 0 0 0 0;\n",
              "      width: 32px;\n",
              "    }\n",
              "\n",
              "    .colab-df-convert:hover {\n",
              "      background-color: #E2EBFA;\n",
              "      box-shadow: 0px 1px 2px rgba(60, 64, 67, 0.3), 0px 1px 3px 1px rgba(60, 64, 67, 0.15);\n",
              "      fill: #174EA6;\n",
              "    }\n",
              "\n",
              "    [theme=dark] .colab-df-convert {\n",
              "      background-color: #3B4455;\n",
              "      fill: #D2E3FC;\n",
              "    }\n",
              "\n",
              "    [theme=dark] .colab-df-convert:hover {\n",
              "      background-color: #434B5C;\n",
              "      box-shadow: 0px 1px 3px 1px rgba(0, 0, 0, 0.15);\n",
              "      filter: drop-shadow(0px 1px 2px rgba(0, 0, 0, 0.3));\n",
              "      fill: #FFFFFF;\n",
              "    }\n",
              "  </style>\n",
              "\n",
              "      <script>\n",
              "        const buttonEl =\n",
              "          document.querySelector('#df-4d1116a5-1161-42f8-b086-cabd55be7254 button.colab-df-convert');\n",
              "        buttonEl.style.display =\n",
              "          google.colab.kernel.accessAllowed ? 'block' : 'none';\n",
              "\n",
              "        async function convertToInteractive(key) {\n",
              "          const element = document.querySelector('#df-4d1116a5-1161-42f8-b086-cabd55be7254');\n",
              "          const dataTable =\n",
              "            await google.colab.kernel.invokeFunction('convertToInteractive',\n",
              "                                                     [key], {});\n",
              "          if (!dataTable) return;\n",
              "\n",
              "          const docLinkHtml = 'Like what you see? Visit the ' +\n",
              "            '<a target=\"_blank\" href=https://colab.research.google.com/notebooks/data_table.ipynb>data table notebook</a>'\n",
              "            + ' to learn more about interactive tables.';\n",
              "          element.innerHTML = '';\n",
              "          dataTable['output_type'] = 'display_data';\n",
              "          await google.colab.output.renderOutput(dataTable, element);\n",
              "          const docLink = document.createElement('div');\n",
              "          docLink.innerHTML = docLinkHtml;\n",
              "          element.appendChild(docLink);\n",
              "        }\n",
              "      </script>\n",
              "    </div>\n",
              "  </div>\n",
              "  "
            ]
          },
          "metadata": {},
          "execution_count": 15
        }
      ],
      "source": [
        "import pandas as pd\n",
        "uri = \"https://gist.githubusercontent.com/guilhermesilveira/2d2efa37d66b6c84a722ea627a897ced/raw/10968b997d885cbded1c92938c7a9912ba41c615/tracking.csv\"\n",
        "dados= pd.read_csv(uri)\n",
        "dados.head(10)\n"
      ]
    },
    {
      "cell_type": "markdown",
      "source": [
        "**Renomeando as colunas**"
      ],
      "metadata": {
        "id": "HpKfuj19Wzjz"
      }
    },
    {
      "cell_type": "code",
      "source": [
        "mapa ={\n",
        "    \"home\": \"principal\",\n",
        "    \"how_it_works\": \"como_funciona\",\n",
        "    \"contact\": \"contato\",\n",
        "    \"bought\": \"comprou\",\n",
        "}\n",
        "dados = dados.rename(columns = mapa)"
      ],
      "metadata": {
        "id": "aTGfBoAHWJXP"
      },
      "execution_count": 22,
      "outputs": []
    },
    {
      "cell_type": "markdown",
      "source": [
        "**Selecionado colunas desejadas e colocando na variavel x**\n",
        "\n",
        "**Variavel y se comprou**\n",
        "\n"
      ],
      "metadata": {
        "id": "hT_vQlLjV-v8"
      }
    },
    {
      "cell_type": "code",
      "source": [
        "x = dados[[\"principal\", \"como_funciona\", \"contato\"]]\n",
        "y = dados[\"comprou\"]\n",
        "y.head(10)"
      ],
      "metadata": {
        "colab": {
          "base_uri": "https://localhost:8080/"
        },
        "id": "snX8En4qVj1u",
        "outputId": "8b9da7ad-868f-4d67-fb9f-bc26fefde573"
      },
      "execution_count": 24,
      "outputs": [
        {
          "output_type": "execute_result",
          "data": {
            "text/plain": [
              "0    0\n",
              "1    0\n",
              "2    0\n",
              "3    0\n",
              "4    0\n",
              "5    1\n",
              "6    0\n",
              "7    1\n",
              "8    0\n",
              "9    1\n",
              "Name: comprou, dtype: int64"
            ]
          },
          "metadata": {},
          "execution_count": 24
        }
      ]
    },
    {
      "cell_type": "markdown",
      "source": [
        "**Quantos elementos tem nos dados**"
      ],
      "metadata": {
        "id": "WDQ2hv30YjZH"
      }
    },
    {
      "cell_type": "code",
      "source": [
        "dados.shape"
      ],
      "metadata": {
        "colab": {
          "base_uri": "https://localhost:8080/"
        },
        "id": "osQlVOIFYmgn",
        "outputId": "07834a5a-fe1f-4ca6-b3e2-b57c1eec6e41"
      },
      "execution_count": 25,
      "outputs": [
        {
          "output_type": "execute_result",
          "data": {
            "text/plain": [
              "(99, 4)"
            ]
          },
          "metadata": {},
          "execution_count": 25
        }
      ]
    },
    {
      "cell_type": "markdown",
      "source": [
        "# **Treinar os 75 elementos** "
      ],
      "metadata": {
        "id": "VuG6i4TGYzOP"
      }
    },
    {
      "cell_type": "code",
      "source": [
        "treino_x = x[:75]\n",
        "treino_y = y[:75]\n",
        "teste_x = x[75:]\n",
        "teste_y = y[75:]\n",
        "\n",
        "print(\"Treinaremos com %d elemntos e testaremos com %d elementos\" % (len(treino_x),len(teste_x)))\n",
        "\n"
      ],
      "metadata": {
        "colab": {
          "base_uri": "https://localhost:8080/"
        },
        "id": "2cjabPxyYnkg",
        "outputId": "bb74ba1d-9e96-4b91-8a8d-bea5eb6a8855"
      },
      "execution_count": 26,
      "outputs": [
        {
          "output_type": "stream",
          "name": "stdout",
          "text": [
            "Treinaremos com 75 elemntos e testaremos com 24 elementos\n"
          ]
        }
      ]
    },
    {
      "cell_type": "markdown",
      "source": [
        "**Importando do modulo sklearn.svm import Linearsvc**\n",
        "\n",
        "**Importando do modulo sklearn.metrics import accuracy_score medir Taxa de acerto**"
      ],
      "metadata": {
        "id": "RdUHIDnKb40z"
      }
    },
    {
      "cell_type": "code",
      "source": [
        "from sklearn.svm import LinearSVC\n",
        "from sklearn.metrics import accuracy_score\n",
        "modelo = LinearSVC()\n",
        "modelo.fit(treino_x, treino_y)\n",
        "previsoes = modelo.predict(teste_x)\n",
        "\n",
        "acuracia = accuracy_score(teste_y, previsoes) * 100\n",
        "print(\"A acurácia  foi %.2f%%\" % acuracia)\n"
      ],
      "metadata": {
        "colab": {
          "base_uri": "https://localhost:8080/"
        },
        "id": "h1sspOJNbXmz",
        "outputId": "6d97010b-7548-4790-8db5-e85217964a06"
      },
      "execution_count": 35,
      "outputs": [
        {
          "output_type": "stream",
          "name": "stdout",
          "text": [
            "A acurácia  foi 95.83%\n"
          ]
        }
      ]
    },
    {
      "cell_type": "markdown",
      "source": [
        "#**Usando a Biblioteca para separar o treino e teste**"
      ],
      "metadata": {
        "id": "FlYCdtM3kQ5f"
      }
    },
    {
      "cell_type": "code",
      "source": [
        "from sklearn.model_selection import train_test_split\n",
        "from sklearn.svm import LinearSVC\n",
        "from sklearn.metrics import accuracy_score\n",
        "\n",
        "\n",
        "SEED = 20\n",
        "\n",
        "treino_x, teste_x, treino_y, teste_y = train_test_split(x, y,random_state=SEED, test_size = 0.25, stratify = y)\n",
        "print(treino_x.shape)\n",
        "print(teste_x.shape)\n",
        "\n",
        "\n",
        "\n",
        "print(\"Treinaremos com %d elemntos e testaremos com %d elementos\" % (len(treino_x),len(teste_x)))\n",
        "\n",
        "\n",
        "modelo = LinearSVC()\n",
        "modelo.fit(treino_x, treino_y)\n",
        "previsoes = modelo.predict(teste_x)\n",
        "\n",
        "acuracia = accuracy_score(teste_y, previsoes) * 100\n",
        "print(\"A acurácia  foi %.2f%%\" % acuracia)\n"
      ],
      "metadata": {
        "colab": {
          "base_uri": "https://localhost:8080/"
        },
        "id": "w3niNXkPb3Lb",
        "outputId": "a6821b89-3344-4ea0-aff9-14ee8abdfa1b"
      },
      "execution_count": 53,
      "outputs": [
        {
          "output_type": "stream",
          "name": "stdout",
          "text": [
            "(74, 3)\n",
            "(25, 3)\n",
            "Treinaremos com 74 elemntos e testaremos com 25 elementos\n",
            "A acurácia  foi 96.00%\n"
          ]
        }
      ]
    },
    {
      "cell_type": "markdown",
      "source": [
        "**Quantos 0 e quantos 1 temos**"
      ],
      "metadata": {
        "id": "hgPTRL0Fk4zo"
      }
    },
    {
      "cell_type": "code",
      "source": [
        "treino_y.value_counts()"
      ],
      "metadata": {
        "colab": {
          "base_uri": "https://localhost:8080/"
        },
        "id": "Y7wERtu1jKj3",
        "outputId": "bde8e298-8b91-4046-e530-b74ae2ab9635"
      },
      "execution_count": 54,
      "outputs": [
        {
          "output_type": "execute_result",
          "data": {
            "text/plain": [
              "0    49\n",
              "1    25\n",
              "Name: comprou, dtype: int64"
            ]
          },
          "metadata": {},
          "execution_count": 54
        }
      ]
    },
    {
      "cell_type": "code",
      "source": [
        "teste_y.value_counts()"
      ],
      "metadata": {
        "colab": {
          "base_uri": "https://localhost:8080/"
        },
        "id": "GMk62_8pkz85",
        "outputId": "08a3ce55-2270-4911-9cc9-da6840ca9674"
      },
      "execution_count": 55,
      "outputs": [
        {
          "output_type": "execute_result",
          "data": {
            "text/plain": [
              "0    17\n",
              "1     8\n",
              "Name: comprou, dtype: int64"
            ]
          },
          "metadata": {},
          "execution_count": 55
        }
      ]
    },
    {
      "cell_type": "markdown",
      "source": [
        "**Abrir arquivo CSV;**\n",
        "\n",
        "**Imprimir as primeiras linhas com a função head;**\n",
        "\n",
        "**Renomear as colunas;**\n",
        "\n",
        "**Utilizar a função shape para ver a quantidade de elementos;**\n",
        "\n",
        "**Separar dados para treino e teste;**\n",
        "\n",
        "**Definir a ordem para os números aleatórios;**\n",
        "\n",
        "**Utilizar a função value_counts.**"
      ],
      "metadata": {
        "id": "GRyODEzZmKW4"
      }
    },
    {
      "cell_type": "code",
      "source": [],
      "metadata": {
        "id": "x2CKIiXYlL5M"
      },
      "execution_count": null,
      "outputs": []
    }
  ]
}