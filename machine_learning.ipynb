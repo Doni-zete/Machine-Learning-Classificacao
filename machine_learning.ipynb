{
  "nbformat": 4,
  "nbformat_minor": 0,
  "metadata": {
    "colab": {
      "provenance": []
    },
    "kernelspec": {
      "name": "python3",
      "display_name": "Python 3"
    },
    "language_info": {
      "name": "python"
    }
  },
  "cells": [
    {
      "cell_type": "markdown",
      "source": [
        "**Feateares (1 sim, 0 não)**\n",
        "\n",
        "**Pelo longo?**\n",
        "\n",
        "**Perna curta?**\n",
        "\n",
        "**Faz auaua?**\n"
      ],
      "metadata": {
        "id": "bjRmrUoJ6NcR"
      }
    },
    {
      "cell_type": "code",
      "execution_count": 1,
      "metadata": {
        "id": "8PMpFa5B5xyZ"
      },
      "outputs": [],
      "source": [
        "porco1 = [0,1,0]\n",
        "porco2 = [0,1,1]\n",
        "porco3 = [1,1,0]\n",
        "\n",
        "cachorro1 = [0,1,1]\n",
        "cachorro2 = [1,0,1]\n",
        "cachorro3 = [1,1,1]\n",
        "\n",
        "# 1 => porco, 0 =>cachorro\n",
        "# treino_x para treinar que são os dados com as feateares, treino_y são as classes com 0  ou 1\n",
        "treino_x = [porco1,porco2,porco3, cachorro1,cachorro2,cachorro3]\n",
        "treino_y = [1,1,1,0,0,0]\n",
        "\n"
      ]
    },
    {
      "cell_type": "markdown",
      "source": [
        "\n",
        "# Importando do modulo sklearn.svm import Linearsvc"
      ],
      "metadata": {
        "id": "37lGezgm8GWi"
      }
    },
    {
      "cell_type": "code",
      "source": [
        "# Modelo aprende com o modelo definido acima\n",
        "from sklearn.svm import LinearSVC\n",
        "model = LinearSVC()\n",
        "model.fit(treino_x, treino_y)"
      ],
      "metadata": {
        "colab": {
          "base_uri": "https://localhost:8080/"
        },
        "id": "Zk0t7CHH7DcP",
        "outputId": "b87cde51-ecd4-4a57-c80a-7288cae1f4cf"
      },
      "execution_count": 2,
      "outputs": [
        {
          "output_type": "execute_result",
          "data": {
            "text/plain": [
              "LinearSVC()"
            ]
          },
          "metadata": {},
          "execution_count": 2
        }
      ]
    },
    {
      "cell_type": "code",
      "source": [
        "# Passando uma lista\n",
        "animal_misterioso = [1,1,1]\n",
        "model.predict([animal_misterioso])"
      ],
      "metadata": {
        "colab": {
          "base_uri": "https://localhost:8080/"
        },
        "id": "i5PbwHe18Iww",
        "outputId": "df7ee52d-0507-4e00-bea6-b4c7ffe61c62"
      },
      "execution_count": 3,
      "outputs": [
        {
          "output_type": "execute_result",
          "data": {
            "text/plain": [
              "array([0])"
            ]
          },
          "metadata": {},
          "execution_count": 3
        }
      ]
    },
    {
      "cell_type": "markdown",
      "source": [
        "**Rodando para varios animais**"
      ],
      "metadata": {
        "id": "brnnvi2z-AhP"
      }
    },
    {
      "cell_type": "code",
      "source": [
        "\n",
        "misterio1 = [1,1,1]\n",
        "misterio2 = [1,1,0]\n",
        "misterio3 = [0,1,1]\n",
        "\n",
        "treino_x = [misterio1, misterio2, misterio3]\n",
        "model.predict(treino_x)"
      ],
      "metadata": {
        "colab": {
          "base_uri": "https://localhost:8080/"
        },
        "id": "maz1GfaP8mvG",
        "outputId": "db5ad201-7461-4500-c393-cd0c7a7409d7"
      },
      "execution_count": 4,
      "outputs": [
        {
          "output_type": "execute_result",
          "data": {
            "text/plain": [
              "array([0, 1, 0])"
            ]
          },
          "metadata": {},
          "execution_count": 4
        }
      ]
    },
    {
      "cell_type": "code",
      "source": [
        "treino_y = [0,1,1]"
      ],
      "metadata": {
        "id": "DQY3IptD-rKx"
      },
      "execution_count": 5,
      "outputs": []
    },
    {
      "cell_type": "markdown",
      "source": [
        "## Taxa de acerto"
      ],
      "metadata": {
        "id": "p3qJcHL3-TOT"
      }
    },
    {
      "cell_type": "code",
      "source": [
        "\n",
        "previsoes = model.predict(treino_x)"
      ],
      "metadata": {
        "id": "WhcKfslD92hN"
      },
      "execution_count": 6,
      "outputs": []
    },
    {
      "cell_type": "code",
      "source": [
        "previsoes == treino_y"
      ],
      "metadata": {
        "colab": {
          "base_uri": "https://localhost:8080/"
        },
        "id": "CoIoKfN3A2Wo",
        "outputId": "0dd5ade6-0aae-48fc-d78e-f638cd8dbafa"
      },
      "execution_count": 7,
      "outputs": [
        {
          "output_type": "execute_result",
          "data": {
            "text/plain": [
              "array([ True,  True, False])"
            ]
          },
          "metadata": {},
          "execution_count": 7
        }
      ]
    },
    {
      "cell_type": "code",
      "source": [
        "corretos = (previsoes == treino_y).sum()\n",
        "total = len(treino_x)\n",
        "taxa_de_acerto = corretos/total\n",
        "print(\"Taxa de acerto: %.2f\" % (taxa_de_acerto * 100))"
      ],
      "metadata": {
        "colab": {
          "base_uri": "https://localhost:8080/"
        },
        "id": "jCwbKJbW-eMC",
        "outputId": "7c599447-4821-4cd4-cee3-56020f4a7715"
      },
      "execution_count": 13,
      "outputs": [
        {
          "output_type": "stream",
          "name": "stdout",
          "text": [
            "Taxa de acerto: 66.67\n"
          ]
        }
      ]
    },
    {
      "cell_type": "markdown",
      "source": [
        "#  Importando do modulo sklearn.metrics import accuracy_score medir Taxa de acerto"
      ],
      "metadata": {
        "id": "vim6h-wfBpsr"
      }
    },
    {
      "cell_type": "code",
      "source": [
        "from sklearn.metrics import accuracy_score"
      ],
      "metadata": {
        "id": "41oA83Ln-4Jn"
      },
      "execution_count": 9,
      "outputs": []
    },
    {
      "cell_type": "code",
      "source": [
        "#Nota que o accuracy_score vai dar, com os valores verdadeiros \"testes_classes\" seguido das \"previsoes\"\n",
        "taxa_de_acerto = accuracy_score(treino_y, previsoes)\n",
        "print(\"Taxa de acerto %.2f\" % (taxa_de_acerto* 100))"
      ],
      "metadata": {
        "colab": {
          "base_uri": "https://localhost:8080/"
        },
        "id": "Pt1t6m7wBcOi",
        "outputId": "a592b01d-b1b9-4e15-fd15-c61fbf23762b"
      },
      "execution_count": 15,
      "outputs": [
        {
          "output_type": "stream",
          "name": "stdout",
          "text": [
            "Taxa de acerto 66.67\n"
          ]
        }
      ]
    },
    {
      "cell_type": "markdown",
      "source": [
        "# Oque foi visto "
      ],
      "metadata": {
        "id": "8SoLLuPYE-Av"
      }
    },
    {
      "cell_type": "markdown",
      "source": [
        "**Treinar algoritmos**\n",
        "\n",
        "**Definir características (features) do que desejamos classificar;**\n",
        "\n",
        "**Classificar em categorias;**\n",
        "\n",
        "**Utilizar o módulo linearSVC e accuracy_score;**\n",
        "\n",
        "**Utilizar o método fit;**\n",
        "\n",
        "**Prever dados com a função predict;**\n",
        "\n",
        "**Calcular a taxa de acerto do modelo;**\n",
        "\n",
        "**Comparar testes e previsões;**\n",
        "\n",
        "**Utilizar a função soma;**\n",
        "\n",
        "**Padronizar variáveis;**\n"
      ],
      "metadata": {
        "id": "7c3m_eyyEo4B"
      }
    },
    {
      "cell_type": "code",
      "source": [],
      "metadata": {
        "id": "uc0r46WTEtkD"
      },
      "execution_count": null,
      "outputs": []
    }
  ]
}